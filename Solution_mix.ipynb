{
 "cells": [
  {
   "cell_type": "code",
   "execution_count": 1,
   "id": "stunning-poverty",
   "metadata": {},
   "outputs": [],
   "source": [
    "import numpy as np\n",
    "import pandas as pd\n",
    "from datetime import datetime\n",
    "import matplotlib.pyplot as plt\n",
    "from sklearn.ensemble import RandomForestClassifier, BaggingClassifier, GradientBoostingClassifier\n",
    "import  sklearn.metrics as met\n",
    "from sklearn.metrics import roc_auc_score, auc\n",
    "from sklearn.metrics import roc_curve\n",
    "from xgboost import XGBClassifier\n",
    "from sklearn.model_selection import KFold, cross_val_score\n",
    "from statsmodels.stats.stattools import durbin_watson\n",
    "from sklearn.metrics import r2_score, explained_variance_score\n",
    "from lightgbm import LGBMClassifier\n",
    "import lightgbm as lgb\n",
    "from sklearn.model_selection import GridSearchCV"
   ]
  },
  {
   "cell_type": "code",
   "execution_count": 2,
   "id": "dental-white",
   "metadata": {},
   "outputs": [],
   "source": [
    "train = pd.read_csv('train.csv')\n",
    "test = pd.read_csv('test.csv')"
   ]
  },
  {
   "cell_type": "markdown",
   "id": "minute-feeding",
   "metadata": {},
   "source": [
    "#### В задании сказано не использовать поле Week, но убедимся, що между ним и целевой перемнной нет взаимосвязи"
   ]
  },
  {
   "cell_type": "code",
   "execution_count": 3,
   "id": "dynamic-yesterday",
   "metadata": {},
   "outputs": [],
   "source": [
    "grouped = train.groupby(['Week','target'])['Id'].count().reset_index()"
   ]
  },
  {
   "cell_type": "code",
   "execution_count": 4,
   "id": "settled-integral",
   "metadata": {},
   "outputs": [
    {
     "data": {
      "image/png": "[encoded data removed]",
      "text/plain": [
       "<Figure size 432x288 with 1 Axes>"
      ]
     },
     "metadata": {
      "needs_background": "light"
     },
     "output_type": "display_data"
    },
    {
     "data": {
      "image/png": "[encoded data removed]",
      "text/plain": [
       "<Figure size 432x288 with 1 Axes>"
      ]
     },
     "metadata": {
      "needs_background": "light"
     },
     "output_type": "display_data"
    }
   ],
   "source": [
    "for i in grouped.target.unique():\n",
    "    fig = plt.figure()\n",
    "    ax = fig.add_axes([0,0,1,1])\n",
    "    weeks = grouped[grouped.target==i]['Week']\n",
    "    users = grouped[grouped.target==i]['Id']\n",
    "    ax.bar(weeks,users)\n",
    "    ax.set_title(f'Drivers with target value: {i}')\n",
    "    plt.show()"
   ]
  },
  {
   "cell_type": "markdown",
   "id": "floral-nashville",
   "metadata": {},
   "source": []
  },
  {
   "cell_type": "markdown",
   "id": "compressed-duncan",
   "metadata": {},
   "source": [
    "#### С помощью .info() проверяем на наличие NaN значений"
   ]
  },
  {
   "cell_type": "code",
   "execution_count": 5,
   "id": "signal-armor",
   "metadata": {},
   "outputs": [
    {
     "name": "stdout",
     "output_type": "stream",
     "text": [
      "<class 'pandas.core.frame.DataFrame'>\n",
      "RangeIndex: 30860 entries, 0 to 30859\n",
      "Data columns (total 52 columns):\n",
      " #   Column  Non-Null Count  Dtype  \n",
      "---  ------  --------------  -----  \n",
      " 0   Id      30860 non-null  int64  \n",
      " 1   Week    30860 non-null  int64  \n",
      " 2   V1      30812 non-null  float64\n",
      " 3   V2      30812 non-null  float64\n",
      " 4   V3      23760 non-null  float64\n",
      " 5   V4      23760 non-null  float64\n",
      " 6   V5      23760 non-null  float64\n",
      " 7   V6      23760 non-null  float64\n",
      " 8   V7      23760 non-null  float64\n",
      " 9   V8      23760 non-null  float64\n",
      " 10  V9      23760 non-null  float64\n",
      " 11  V10     23760 non-null  float64\n",
      " 12  V11     23760 non-null  float64\n",
      " 13  V12     23760 non-null  float64\n",
      " 14  V13     23760 non-null  float64\n",
      " 15  V14     23760 non-null  float64\n",
      " 16  V15     23760 non-null  float64\n",
      " 17  V16     23760 non-null  float64\n",
      " 18  V17     23760 non-null  float64\n",
      " 19  V18     23760 non-null  float64\n",
      " 20  V19     23760 non-null  float64\n",
      " 21  V20     23760 non-null  float64\n",
      " 22  V21     23760 non-null  float64\n",
      " 23  V22     23760 non-null  float64\n",
      " 24  P1      27946 non-null  float64\n",
      " 25  P2      27946 non-null  float64\n",
      " 26  P3      27947 non-null  float64\n",
      " 27  P4      27947 non-null  float64\n",
      " 28  P5      27946 non-null  float64\n",
      " 29  P6      27946 non-null  float64\n",
      " 30  P7      27946 non-null  float64\n",
      " 31  P8      27947 non-null  float64\n",
      " 32  P9      27947 non-null  float64\n",
      " 33  P10     27946 non-null  float64\n",
      " 34  P11     27946 non-null  float64\n",
      " 35  P12     27946 non-null  float64\n",
      " 36  P13     27946 non-null  float64\n",
      " 37  P14     28011 non-null  float64\n",
      " 38  P15     27946 non-null  float64\n",
      " 39  P16     27946 non-null  float64\n",
      " 40  P17     27947 non-null  float64\n",
      " 41  P18     27946 non-null  float64\n",
      " 42  P19     27947 non-null  float64\n",
      " 43  P20     27946 non-null  float64\n",
      " 44  P21     27947 non-null  float64\n",
      " 45  P22     27946 non-null  float64\n",
      " 46  P23     27947 non-null  float64\n",
      " 47  P24     27946 non-null  float64\n",
      " 48  P25     27947 non-null  float64\n",
      " 49  P26     27946 non-null  float64\n",
      " 50  P27     27946 non-null  float64\n",
      " 51  target  30860 non-null  float64\n",
      "dtypes: float64(50), int64(2)\n",
      "memory usage: 12.2 MB\n"
     ]
    }
   ],
   "source": [
    "train.info()"
   ]
  },
  {
   "cell_type": "markdown",
   "id": "simple-investigation",
   "metadata": {},
   "source": [
    "#### Так как нет контекста данных, то попробуем заполнить путсые значния интерполяцией, таким образом избежим изменений в распределениях признаков"
   ]
  },
  {
   "cell_type": "code",
   "execution_count": 6,
   "id": "genetic-thermal",
   "metadata": {},
   "outputs": [],
   "source": [
    "train_int = train.interpolate()\n",
    "test_int = test.interpolate()"
   ]
  },
  {
   "cell_type": "markdown",
   "id": "built-uzbekistan",
   "metadata": {
    "pycharm": {
     "name": "#%% md\n"
    }
   },
   "source": [
    "#### В итоге результаты были ниже ожидаемых и мы перешли на заполнение нулями (дало лучше результаты)"
   ]
  },
  {
   "cell_type": "code",
   "execution_count": 7,
   "id": "brown-shaft",
   "metadata": {
    "pycharm": {
     "name": "#%%\n"
    }
   },
   "outputs": [],
   "source": [
    "train_int = train.fillna(0)\n",
    "test_int = test.fillna(0)"
   ]
  },
  {
   "cell_type": "markdown",
   "id": "brazilian-commissioner",
   "metadata": {
    "pycharm": {
     "name": "#%% md\n"
    }
   },
   "source": [
    "### Дальше так как на каждый ID может быть несколько записей, то групируем по ID"
   ]
  },
  {
   "cell_type": "code",
   "execution_count": 8,
   "id": "sweet-north",
   "metadata": {
    "pycharm": {
     "name": "#%%\n"
    }
   },
   "outputs": [
    {
     "data": {
      "text/html": [
       "<div>\n",
       "<style scoped>\n",
       "    .dataframe tbody tr th:only-of-type {\n",
       "        vertical-align: middle;\n",
       "    }\n",
       "\n",
       "    .dataframe tbody tr th {\n",
       "        vertical-align: top;\n",
       "    }\n",
       "\n",
       "    .dataframe thead th {\n",
       "        text-align: right;\n",
       "    }\n",
       "</style>\n",
       "<table border=\"1\" class=\"dataframe\">\n",
       "  <thead>\n",
       "    <tr style=\"text-align: right;\">\n",
       "      <th></th>\n",
       "      <th>V1_sum</th>\n",
       "      <th>V2_sum</th>\n",
       "      <th>V3_sum</th>\n",
       "      <th>V4_sum</th>\n",
       "      <th>V5_sum</th>\n",
       "      <th>V6_sum</th>\n",
       "      <th>V7_sum</th>\n",
       "      <th>V8_sum</th>\n",
       "      <th>V9_sum</th>\n",
       "      <th>V10_sum</th>\n",
       "      <th>...</th>\n",
       "      <th>P19_median</th>\n",
       "      <th>P20_median</th>\n",
       "      <th>P21_median</th>\n",
       "      <th>P22_median</th>\n",
       "      <th>P23_median</th>\n",
       "      <th>P24_median</th>\n",
       "      <th>P25_median</th>\n",
       "      <th>P26_median</th>\n",
       "      <th>P27_median</th>\n",
       "      <th>target</th>\n",
       "    </tr>\n",
       "    <tr>\n",
       "      <th>Id</th>\n",
       "      <th></th>\n",
       "      <th></th>\n",
       "      <th></th>\n",
       "      <th></th>\n",
       "      <th></th>\n",
       "      <th></th>\n",
       "      <th></th>\n",
       "      <th></th>\n",
       "      <th></th>\n",
       "      <th></th>\n",
       "      <th></th>\n",
       "      <th></th>\n",
       "      <th></th>\n",
       "      <th></th>\n",
       "      <th></th>\n",
       "      <th></th>\n",
       "      <th></th>\n",
       "      <th></th>\n",
       "      <th></th>\n",
       "      <th></th>\n",
       "      <th></th>\n",
       "    </tr>\n",
       "  </thead>\n",
       "  <tbody>\n",
       "    <tr>\n",
       "      <th>-9217315602200933985</th>\n",
       "      <td>1.454545</td>\n",
       "      <td>28.0</td>\n",
       "      <td>0.284639</td>\n",
       "      <td>0.313905</td>\n",
       "      <td>0.000000</td>\n",
       "      <td>0.000000</td>\n",
       "      <td>1.072792</td>\n",
       "      <td>0.666598</td>\n",
       "      <td>0.000000</td>\n",
       "      <td>0.000000</td>\n",
       "      <td>...</td>\n",
       "      <td>26.758333</td>\n",
       "      <td>4.930</td>\n",
       "      <td>10.743407</td>\n",
       "      <td>243.0</td>\n",
       "      <td>0.000000</td>\n",
       "      <td>4.930000</td>\n",
       "      <td>0.000000</td>\n",
       "      <td>1307.5</td>\n",
       "      <td>0.149287</td>\n",
       "      <td>0.0</td>\n",
       "    </tr>\n",
       "    <tr>\n",
       "      <th>-9213274821386443078</th>\n",
       "      <td>0.102564</td>\n",
       "      <td>4.0</td>\n",
       "      <td>0.058824</td>\n",
       "      <td>0.000000</td>\n",
       "      <td>0.000000</td>\n",
       "      <td>0.000000</td>\n",
       "      <td>0.000000</td>\n",
       "      <td>0.000000</td>\n",
       "      <td>1.137255</td>\n",
       "      <td>0.000000</td>\n",
       "      <td>...</td>\n",
       "      <td>13.025000</td>\n",
       "      <td>4.900</td>\n",
       "      <td>7.935784</td>\n",
       "      <td>120.5</td>\n",
       "      <td>0.000000</td>\n",
       "      <td>4.900000</td>\n",
       "      <td>0.887255</td>\n",
       "      <td>3448.5</td>\n",
       "      <td>0.000000</td>\n",
       "      <td>1.0</td>\n",
       "    </tr>\n",
       "    <tr>\n",
       "      <th>-9208710115890940128</th>\n",
       "      <td>2.256410</td>\n",
       "      <td>88.0</td>\n",
       "      <td>0.063659</td>\n",
       "      <td>0.092231</td>\n",
       "      <td>0.265664</td>\n",
       "      <td>0.063659</td>\n",
       "      <td>0.810025</td>\n",
       "      <td>0.318296</td>\n",
       "      <td>0.421554</td>\n",
       "      <td>0.085714</td>\n",
       "      <td>...</td>\n",
       "      <td>25.466667</td>\n",
       "      <td>4.925</td>\n",
       "      <td>10.870752</td>\n",
       "      <td>606.5</td>\n",
       "      <td>0.054887</td>\n",
       "      <td>4.917095</td>\n",
       "      <td>0.575188</td>\n",
       "      <td>4265.0</td>\n",
       "      <td>0.771930</td>\n",
       "      <td>0.0</td>\n",
       "    </tr>\n",
       "    <tr>\n",
       "      <th>-9205482426769313939</th>\n",
       "      <td>0.000000</td>\n",
       "      <td>0.0</td>\n",
       "      <td>0.284727</td>\n",
       "      <td>0.143233</td>\n",
       "      <td>0.031250</td>\n",
       "      <td>0.031250</td>\n",
       "      <td>0.329887</td>\n",
       "      <td>0.474906</td>\n",
       "      <td>0.285244</td>\n",
       "      <td>0.064286</td>\n",
       "      <td>...</td>\n",
       "      <td>26.858333</td>\n",
       "      <td>4.855</td>\n",
       "      <td>8.854241</td>\n",
       "      <td>322.5</td>\n",
       "      <td>0.000000</td>\n",
       "      <td>4.840781</td>\n",
       "      <td>0.625446</td>\n",
       "      <td>4597.0</td>\n",
       "      <td>0.628571</td>\n",
       "      <td>0.0</td>\n",
       "    </tr>\n",
       "    <tr>\n",
       "      <th>-9204742353296425998</th>\n",
       "      <td>0.307692</td>\n",
       "      <td>4.0</td>\n",
       "      <td>0.000000</td>\n",
       "      <td>0.734230</td>\n",
       "      <td>0.000000</td>\n",
       "      <td>0.000000</td>\n",
       "      <td>1.263894</td>\n",
       "      <td>0.269830</td>\n",
       "      <td>0.024390</td>\n",
       "      <td>0.000000</td>\n",
       "      <td>...</td>\n",
       "      <td>13.758333</td>\n",
       "      <td>4.970</td>\n",
       "      <td>7.255195</td>\n",
       "      <td>215.0</td>\n",
       "      <td>0.000000</td>\n",
       "      <td>4.967983</td>\n",
       "      <td>0.368132</td>\n",
       "      <td>5040.0</td>\n",
       "      <td>0.200750</td>\n",
       "      <td>0.0</td>\n",
       "    </tr>\n",
       "  </tbody>\n",
       "</table>\n",
       "<p>5 rows × 197 columns</p>\n",
       "</div>"
      ],
      "text/plain": [
       "                        V1_sum  V2_sum    V3_sum    V4_sum    V5_sum  \\\n",
       "Id                                                                     \n",
       "-9217315602200933985  1.454545    28.0  0.284639  0.313905  0.000000   \n",
       "-9213274821386443078  0.102564     4.0  0.058824  0.000000  0.000000   \n",
       "-9208710115890940128  2.256410    88.0  0.063659  0.092231  0.265664   \n",
       "-9205482426769313939  0.000000     0.0  0.284727  0.143233  0.031250   \n",
       "-9204742353296425998  0.307692     4.0  0.000000  0.734230  0.000000   \n",
       "\n",
       "                        V6_sum    V7_sum    V8_sum    V9_sum   V10_sum  ...  \\\n",
       "Id                                                                      ...   \n",
       "-9217315602200933985  0.000000  1.072792  0.666598  0.000000  0.000000  ...   \n",
       "-9213274821386443078  0.000000  0.000000  0.000000  1.137255  0.000000  ...   \n",
       "-9208710115890940128  0.063659  0.810025  0.318296  0.421554  0.085714  ...   \n",
       "-9205482426769313939  0.031250  0.329887  0.474906  0.285244  0.064286  ...   \n",
       "-9204742353296425998  0.000000  1.263894  0.269830  0.024390  0.000000  ...   \n",
       "\n",
       "                      P19_median  P20_median  P21_median  P22_median  \\\n",
       "Id                                                                     \n",
       "-9217315602200933985   26.758333       4.930   10.743407       243.0   \n",
       "-9213274821386443078   13.025000       4.900    7.935784       120.5   \n",
       "-9208710115890940128   25.466667       4.925   10.870752       606.5   \n",
       "-9205482426769313939   26.858333       4.855    8.854241       322.5   \n",
       "-9204742353296425998   13.758333       4.970    7.255195       215.0   \n",
       "\n",
       "                      P23_median  P24_median  P25_median  P26_median  \\\n",
       "Id                                                                     \n",
       "-9217315602200933985    0.000000    4.930000    0.000000      1307.5   \n",
       "-9213274821386443078    0.000000    4.900000    0.887255      3448.5   \n",
       "-9208710115890940128    0.054887    4.917095    0.575188      4265.0   \n",
       "-9205482426769313939    0.000000    4.840781    0.625446      4597.0   \n",
       "-9204742353296425998    0.000000    4.967983    0.368132      5040.0   \n",
       "\n",
       "                      P27_median  target  \n",
       "Id                                        \n",
       "-9217315602200933985    0.149287     0.0  \n",
       "-9213274821386443078    0.000000     1.0  \n",
       "-9208710115890940128    0.771930     0.0  \n",
       "-9205482426769313939    0.628571     0.0  \n",
       "-9204742353296425998    0.200750     0.0  \n",
       "\n",
       "[5 rows x 197 columns]"
      ]
     },
     "execution_count": 8,
     "metadata": {},
     "output_type": "execute_result"
    }
   ],
   "source": [
    "df_train = train_int\n",
    "df_test = test_int\n",
    "\n",
    "df_train_sum = df_train.groupby(\"Id\").sum()\n",
    "df_train_max = df_train.groupby(\"Id\").max()\n",
    "df_train_min = df_train.groupby(\"Id\").min()\n",
    "df_train_median = df_train.groupby(\"Id\").median()\n",
    "\n",
    "# TEST\n",
    "\n",
    "df_test_sum = df_test.groupby(\"Id\").sum()\n",
    "df_test_max = df_test.groupby(\"Id\").max()\n",
    "df_test_min = df_test.groupby(\"Id\").min()\n",
    "df_test_median = df_test.groupby(\"Id\").median()\n",
    "\n",
    "# TRAIN\n",
    "df_train_median.drop(['Week'], axis=1, inplace=True)\n",
    "df_train_sum.drop([\"Week\", 'target'], axis=1, inplace=True)\n",
    "df_train_max.drop([\"Week\", 'target'], axis=1, inplace=True)\n",
    "df_train_min.drop([\"Week\", 'target'], axis=1, inplace=True)\n",
    "\n",
    "columns_maps = lambda param: dict([(x, f\"{x}_{param}\") for x in df_test.columns])\n",
    "\n",
    "\n",
    "df_train_sum  = df_train_sum.rename(columns=columns_maps(\"sum\"))\n",
    "df_train_max  = df_train_max.rename(columns=columns_maps(\"max\"))\n",
    "df_train_min  = df_train_min.rename(columns=columns_maps(\"min\"))\n",
    "df_train_median  = df_train_median.rename(columns=columns_maps(\"median\"))\n",
    "\n",
    "# TEST\n",
    "\n",
    "df_test_sum.drop([\"Week\"], axis=1, inplace=True)\n",
    "df_test_max.drop([\"Week\"], axis=1, inplace=True)\n",
    "df_test_min.drop([\"Week\"], axis=1, inplace=True)\n",
    "df_test_median.drop([\"Week\"], axis=1, inplace=True)\n",
    "\n",
    "df_test_sum  = df_test_sum.rename(columns=columns_maps(\"sum\"))\n",
    "df_test_max  = df_test_max.rename(columns=columns_maps(\"max\"))\n",
    "df_test_min  = df_test_min.rename(columns=columns_maps(\"min\"))\n",
    "df_test_median  = df_test_median.rename(columns=columns_maps(\"median\"))\n",
    "\n",
    "# CONCATENATING\n",
    "df_train_new = pd.concat([ df_train_sum,df_train_max,df_train_min, df_train_median], axis=1)\n",
    "df_test_new  = pd.concat([ df_test_sum, df_test_max, df_test_min, df_test_median], axis=1)\n",
    "\n",
    "df_train_new.head()"
   ]
  },
  {
   "cell_type": "markdown",
   "id": "744b035a-f567-473f-86a8-7d71c2e26f72",
   "metadata": {},
   "source": [
    "# Train model"
   ]
  },
  {
   "cell_type": "code",
   "execution_count": 9,
   "id": "dd82ce71-2532-4056-96da-9380d4b8788a",
   "metadata": {},
   "outputs": [],
   "source": [
    "df_train_new\n",
    "df_test_new\n",
    "\n",
    "first_q1 = 0.05\n",
    "second_q3 = 0.98\n",
    "\n",
    "for column in df_test_new.columns:\n",
    "  Q1 = df_train_new[column].quantile(first_q1)\n",
    "  Q3 = df_train_new[column].quantile(second_q3)\n",
    "  IQR = Q3 - Q1\n",
    "  df_train_new = df_train_new[(df_train_new[column] >= Q1 - 1.5*IQR) & \n",
    "                        (df_train_new[column] <= Q3 + 1.5*IQR)]"
   ]
  },
  {
   "cell_type": "code",
   "execution_count": 10,
   "id": "5422e65a-5cb6-449b-a81b-54df644eda4d",
   "metadata": {},
   "outputs": [
    {
     "data": {
      "text/plain": [
       "((4516, 196), (1936, 196))"
      ]
     },
     "execution_count": 10,
     "metadata": {},
     "output_type": "execute_result"
    }
   ],
   "source": [
    "from sklearn.model_selection import train_test_split\n",
    "\n",
    "X_train, X_test, y_train, y_test = train_test_split(df_train_new.drop([\"target\"], axis=1), df_train_new.target, test_size=0.3, random_state=42)\n",
    "\n",
    "X_train.shape, X_test.shape"
   ]
  },
  {
   "cell_type": "markdown",
   "id": "earlier-trick",
   "metadata": {
    "pycharm": {
     "name": "#%% md\n"
    }
   },
   "source": [
    "### GradientBoostingClassifier"
   ]
  },
  {
   "cell_type": "code",
   "execution_count": 11,
   "id": "iraqi-settle",
   "metadata": {
    "pycharm": {
     "name": "#%%\n"
    }
   },
   "outputs": [
    {
     "name": "stdout",
     "output_type": "stream",
     "text": [
      "0.9706716247117947\n"
     ]
    },
    {
     "data": {
      "text/plain": [
       "<matplotlib.legend.Legend at 0x131cf0f70>"
      ]
     },
     "execution_count": 11,
     "metadata": {},
     "output_type": "execute_result"
    },
    {
     "data": {
      "image/png": "[encoded data removed]",
      "text/plain": [
       "<Figure size 432x288 with 1 Axes>"
      ]
     },
     "metadata": {
      "needs_background": "light"
     },
     "output_type": "display_data"
    }
   ],
   "source": [
    "clf_g = GradientBoostingClassifier()\n",
    "\n",
    "clf_g.fit(X_train, y_train)\n",
    "\n",
    "y_predict_train = clf_g.predict_proba(X_train)[:,1]\n",
    "y_predict_test = clf_g.predict_proba(X_test)[:,1]\n",
    "\n",
    "\n",
    "from sklearn.metrics import confusion_matrix\n",
    "\n",
    "print(roc_auc_score(y_test, y_predict_test))\n",
    "#print(classification_report(y_test, predictions))\n",
    "#print(accuracy_score(y_test, predictions ))\n",
    "fpr, tpr, thresholds = roc_curve(y_test, y_predict_test)\n",
    "plt.figure()\n",
    "plt.plot(fpr, tpr, label='XGBClassifier (area = %0.2f)' % roc_auc_score(y_test, y_predict_test))\n",
    "plt.plot([0, 1], [0, 1], 'r--')\n",
    "plt.xlim([0.0, 1.0])\n",
    "plt.ylim([0.0, 1.05])\n",
    "plt.xlabel('False Positive Rate')\n",
    "plt.ylabel('True Positive Rate')\n",
    "plt.title('Receiver operating characteristic')\n",
    "plt.legend(loc=\"lower right\")\n"
   ]
  },
  {
   "cell_type": "markdown",
   "id": "adjustable-dayton",
   "metadata": {
    "pycharm": {
     "name": "#%% md\n"
    }
   },
   "source": [
    "### XGBClassifier (тренировка параметров+результаты)"
   ]
  },
  {
   "cell_type": "code",
   "execution_count": 12,
   "id": "important-hudson",
   "metadata": {
    "pycharm": {
     "name": "#%%\n"
    }
   },
   "outputs": [
    {
     "name": "stderr",
     "output_type": "stream",
     "text": [
      "/Users/s.zinchenko/.local/share/virtualenvs/notebooks-1OY_9XZP/lib/python3.8/site-packages/xgboost/sklearn.py:888: UserWarning: The use of label encoder in XGBClassifier is deprecated and will be removed in a future release. To remove this warning, do the following: 1) Pass option use_label_encoder=False when constructing XGBClassifier object; and 2) Encode your labels (y) as integers starting with 0, i.e. 0, 1, 2, ..., [num_class - 1].\n",
      "  warnings.warn(label_encoder_deprecation_msg, UserWarning)\n"
     ]
    },
    {
     "name": "stdout",
     "output_type": "stream",
     "text": [
      "[21:31:54] WARNING: /Users/travis/build/dmlc/xgboost/src/learner.cc:1061: Starting in XGBoost 1.3.0, the default evaluation metric used with the objective 'binary:logistic' was changed from 'error' to 'logloss'. Explicitly set eval_metric if you'd like to restore the old behavior.\n",
      "0.9743334159253872\n"
     ]
    },
    {
     "data": {
      "image/png": "[encoded data removed]",
      "text/plain": [
       "<Figure size 432x288 with 1 Axes>"
      ]
     },
     "metadata": {
      "needs_background": "light"
     },
     "output_type": "display_data"
    }
   ],
   "source": [
    "clf_xgb = XGBClassifier()\n",
    "clf_xgb.fit(X_train, y_train)\n",
    "y_predict_train = clf_xgb.predict_proba(X_train)[:,1]\n",
    "y_predict_test = clf_xgb.predict_proba(X_test)[:,1]\n",
    "\n",
    "\n",
    "from sklearn.metrics import confusion_matrix\n",
    "\n",
    "print(roc_auc_score(y_test, y_predict_test))\n",
    "\n",
    "#print(classification_report(y_test, predictions))\n",
    "#print(accuracy_score(y_test, predictions ))\n",
    "fpr, tpr, thresholds = roc_curve(y_test, y_predict_test)\n",
    "plt.figure()\n",
    "plt.plot(fpr, tpr, label='XGBClassifier (area = %0.2f)' % roc_auc_score(y_test, y_predict_test))\n",
    "plt.plot([0, 1], [0, 1], 'r--')\n",
    "plt.xlim([0.0, 1.0])\n",
    "plt.ylim([0.0, 1.05])\n",
    "plt.xlabel('False Positive Rate')\n",
    "plt.ylabel('True Positive Rate')\n",
    "plt.title('Receiver operating characteristic')\n",
    "plt.legend(loc=\"lower right\")\n",
    "plt.show()"
   ]
  },
  {
   "cell_type": "code",
   "execution_count": null,
   "id": "decent-government",
   "metadata": {
    "pycharm": {
     "name": "#%%\n"
    }
   },
   "outputs": [],
   "source": [
    "%%time\n",
    "gbr = XGBClassifier()\n",
    "grid = {\n",
    "    'gamma': [0.1],\n",
    "    'learning_rate': [0.4],\n",
    "    'max_depth': [3],\n",
    "    'n_estimators': [100],\n",
    "    'reg_alpha': [0],\n",
    "    'reg_lambda': [0,0.1,0.2,0.4,0.8,1.6,3.2,6.4,12.8,25.6,51.2,102.4,200],\n",
    "    'booster' : ['gbtree'],\n",
    "}\n",
    "\n",
    "\n",
    "n_splits = 3\n",
    "clf31 = GridSearchCV(gbr, grid, n_jobs=-1,\n",
    "                     cv=KFold(n_splits=n_splits, shuffle=True),\n",
    "                     scoring='roc_auc',\n",
    "                     verbose=4, refit=True)\n",
    "clf31.fit(X_train, y_train)\n",
    "\n",
    "print()\n",
    "print(clf31.best_params_)\n",
    "print(clf31.best_score_)\n",
    "print(clf31.best_estimator_)"
   ]
  },
  {
   "cell_type": "code",
   "execution_count": null,
   "id": "brave-drill",
   "metadata": {
    "pycharm": {
     "name": "#%%\n"
    }
   },
   "outputs": [],
   "source": [
    "%%time\n",
    "gbr = XGBClassifier()\n",
    "grid = {\n",
    "    'eta': np.arange(0.1, 0.26, 0.05),\n",
    "    'min_child_weight': np.arange(1, 5, 0.5).tolist(),\n",
    "    'gamma': [5],\n",
    "    'subsample': np.arange(0.5, 1.0, 0.11).tolist(),\n",
    "    'colsample_bytree': np.arange(0.5, 1.0, 0.11).tolist()\n",
    "}\n",
    "\n",
    "\n",
    "n_splits = 3\n",
    "clf31 = GridSearchCV(gbr, grid, n_jobs=-1,\n",
    "                     cv=KFold(n_splits=n_splits, shuffle=True),\n",
    "                     scoring='roc_auc',\n",
    "                     verbose=4, refit=True)\n",
    "clf31.fit(X_train, y_train)\n",
    "\n",
    "print()\n",
    "print(clf31.best_params_)\n",
    "print(clf31.best_score_)\n",
    "print(clf31.best_estimator_)"
   ]
  },
  {
   "cell_type": "code",
   "execution_count": 13,
   "id": "committed-diary",
   "metadata": {
    "pycharm": {
     "name": "#%%\n"
    }
   },
   "outputs": [
    {
     "name": "stderr",
     "output_type": "stream",
     "text": [
      "/Users/s.zinchenko/.local/share/virtualenvs/notebooks-1OY_9XZP/lib/python3.8/site-packages/xgboost/sklearn.py:888: UserWarning: The use of label encoder in XGBClassifier is deprecated and will be removed in a future release. To remove this warning, do the following: 1) Pass option use_label_encoder=False when constructing XGBClassifier object; and 2) Encode your labels (y) as integers starting with 0, i.e. 0, 1, 2, ..., [num_class - 1].\n",
      "  warnings.warn(label_encoder_deprecation_msg, UserWarning)\n"
     ]
    },
    {
     "name": "stdout",
     "output_type": "stream",
     "text": [
      "[21:32:15] WARNING: /Users/travis/build/dmlc/xgboost/src/learner.cc:1061: Starting in XGBoost 1.3.0, the default evaluation metric used with the objective 'binary:logistic' was changed from 'error' to 'logloss'. Explicitly set eval_metric if you'd like to restore the old behavior.\n",
      "0.9736316987041874\n"
     ]
    },
    {
     "data": {
      "image/png": "[encoded data removed]",
      "text/plain": [
       "<Figure size 432x288 with 1 Axes>"
      ]
     },
     "metadata": {
      "needs_background": "light"
     },
     "output_type": "display_data"
    }
   ],
   "source": [
    "clf_xgb = XGBClassifier(booster = 'dart', learning_rate=0.4, n_estimators=106, max_depth=3, min_child_weight=0)\n",
    "clf_xgb.fit(X_train, y_train)\n",
    "y_predict_train = clf_xgb.predict_proba(X_train)[:,1]\n",
    "y_predict_test = clf_xgb.predict_proba(X_test)[:,1]\n",
    "\n",
    "\n",
    "from sklearn.metrics import confusion_matrix\n",
    "\n",
    "print(roc_auc_score(y_test, y_predict_test))\n",
    "\n",
    "#print(classification_report(y_test, predictions))\n",
    "#print(accuracy_score(y_test, predictions ))\n",
    "fpr, tpr, thresholds = roc_curve(y_test, y_predict_test)\n",
    "plt.figure()\n",
    "plt.plot(fpr, tpr, label='XGBClassifier (area = %0.2f)' % roc_auc_score(y_test, y_predict_test))\n",
    "plt.plot([0, 1], [0, 1], 'r--')\n",
    "plt.xlim([0.0, 1.0])\n",
    "plt.ylim([0.0, 1.05])\n",
    "plt.xlabel('False Positive Rate')\n",
    "plt.ylabel('True Positive Rate')\n",
    "plt.title('Receiver operating characteristic')\n",
    "plt.legend(loc=\"lower right\")\n",
    "plt.show()"
   ]
  },
  {
   "cell_type": "markdown",
   "id": "million-wednesday",
   "metadata": {},
   "source": []
  },
  {
   "cell_type": "markdown",
   "id": "expensive-gambling",
   "metadata": {
    "pycharm": {
     "name": "#%% md\n"
    }
   },
   "source": [
    "#### Попробуем применить ансамбль из BaggingClassifier и XGBClassifier"
   ]
  },
  {
   "cell_type": "code",
   "execution_count": 46,
   "id": "adult-opening",
   "metadata": {
    "pycharm": {
     "name": "#%%\n"
    }
   },
   "outputs": [
    {
     "name": "stdout",
     "output_type": "stream",
     "text": [
      "0.9780746468243986\n"
     ]
    },
    {
     "data": {
      "image/png": "[encoded data removed]",
      "text/plain": [
       "<Figure size 432x288 with 1 Axes>"
      ]
     },
     "metadata": {
      "needs_background": "light"
     },
     "output_type": "display_data"
    }
   ],
   "source": [
    "clf_bagging = BaggingClassifier(base_estimator=XGBClassifier(booster = 'dart', learning_rate=0.4, n_estimators=106, max_depth=3, min_child_weight=0), n_jobs=-1)\n",
    "clf_bagging.fit(X_train, y_train)\n",
    "y_predict_train = clf_bagging.predict_proba(X_train)[:,1]\n",
    "y_predict_test = clf_bagging.predict_proba(X_test)[:,1]\n",
    "\n",
    "\n",
    "from sklearn.metrics import confusion_matrix\n",
    "\n",
    "print(roc_auc_score(y_test, y_predict_test))\n",
    "\n",
    "#print(classification_report(y_test, predictions))\n",
    "#print(accuracy_score(y_test, predictions ))\n",
    "fpr, tpr, thresholds = roc_curve(y_test, y_predict_test)\n",
    "plt.figure()\n",
    "plt.plot(fpr, tpr, label='XGBClassifier (area = %0.2f)' % roc_auc_score(y_test, y_predict_test))\n",
    "plt.plot([0, 1], [0, 1], 'r--')\n",
    "plt.xlim([0.0, 1.0])\n",
    "plt.ylim([0.0, 1.05])\n",
    "plt.xlabel('False Positive Rate')\n",
    "plt.ylabel('True Positive Rate')\n",
    "plt.title('Receiver operating characteristic')\n",
    "plt.legend(loc=\"lower right\")\n",
    "plt.show()"
   ]
  },
  {
   "cell_type": "markdown",
   "id": "promotional-telephone",
   "metadata": {
    "pycharm": {
     "name": "#%% md\n"
    }
   },
   "source": [
    "#### LGBMClassifier (тренировка параметров + результаты)"
   ]
  },
  {
   "cell_type": "code",
   "execution_count": null,
   "id": "rapid-officer",
   "metadata": {
    "pycharm": {
     "name": "#%%\n"
    }
   },
   "outputs": [],
   "source": [
    "gkf = KFold(n_splits=5, shuffle=True, random_state=42).split(X=X_train, y=y_train)\n",
    "\n",
    "param_grid = {\n",
    "    'num_leaves': [5, 10, 31, 127],\n",
    "    'reg_alpha': [0.1, 0.5],\n",
    "    'min_data_in_leaf': [50],\n",
    "    'lambda_l1': [0],\n",
    "    'lambda_l2': [1],\n",
    "    'learning_rate': [0.5],\n",
    "    'boosting_type': ['gbdt', 'rf', 'dart']\n",
    "}\n",
    "\n",
    "lgb_estimator = lgb.LGBMClassifier(objective='binary', metric='auc')\n",
    "\n",
    "gsearch = GridSearchCV(estimator=lgb_estimator, param_grid=param_grid, cv=gkf)\n",
    "lgb_model = gsearch.fit(X=X_train, y=y_train)\n",
    "\n",
    "print(lgb_model.best_params_, lgb_model.best_score_)"
   ]
  },
  {
   "cell_type": "code",
   "execution_count": 43,
   "id": "ranking-colleague",
   "metadata": {
    "pycharm": {
     "name": "#%%\n"
    }
   },
   "outputs": [
    {
     "name": "stdout",
     "output_type": "stream",
     "text": [
      "[LightGBM] [Warning] min_data_in_leaf is set=200, min_child_samples=20 will be ignored. Current value: min_data_in_leaf=200\n",
      "[LightGBM] [Warning] lambda_l2 is set=1.5, reg_lambda=0.0 will be ignored. Current value: lambda_l2=1.5\n",
      "[LightGBM] [Warning] lambda_l1 is set=1, reg_alpha=0.1 will be ignored. Current value: lambda_l1=1\n",
      "0.9748838194600749\n",
      "0.9748838194600749\n"
     ]
    },
    {
     "data": {
      "image/png": "[encoded data removed]",
      "text/plain": [
       "<Figure size 432x288 with 1 Axes>"
      ]
     },
     "metadata": {
      "needs_background": "light"
     },
     "output_type": "display_data"
    }
   ],
   "source": [
    "clf_lbgmc= LGBMClassifier(is_unbalance=True, objective='binary',\n",
    "                          boosting_type='dart', lambda_l1=1, lambda_l2=1.5,\n",
    "                          learning_rate=0.3, min_data_in_leaf=200, num_leaves=27,\n",
    "                          reg_alpha=0.1)\n",
    "clf_lbgmc.fit(X_train, y_train)\n",
    "y_predict_train = clf_lbgmc.predict_proba(X_train)[:,1]\n",
    "y_predict_test = clf_lbgmc.predict_proba(X_test)[:,1]\n",
    "\n",
    "\n",
    "from sklearn.metrics import confusion_matrix\n",
    "\n",
    "print(roc_auc_score(y_test, y_predict_test))\n",
    "\n",
    "print(roc_auc_score(y_test, y_predict_test))\n",
    "\n",
    "#print(classification_report(y_test, predictions))\n",
    "#print(accuracy_score(y_test, predictions ))\n",
    "fpr, tpr, thresholds = roc_curve(y_test, y_predict_test)\n",
    "plt.figure()\n",
    "plt.plot(fpr, tpr, label='XGBClassifier (area = %0.2f)' % roc_auc_score(y_test, y_predict_test))\n",
    "plt.plot([0, 1], [0, 1], 'r--')\n",
    "plt.xlim([0.0, 1.0])\n",
    "plt.ylim([0.0, 1.05])\n",
    "plt.xlabel('False Positive Rate')\n",
    "plt.ylabel('True Positive Rate')\n",
    "plt.title('Receiver operating characteristic')\n",
    "plt.legend(loc=\"lower right\")\n",
    "plt.show()"
   ]
  },
  {
   "cell_type": "markdown",
   "id": "rolled-communications",
   "metadata": {
    "pycharm": {
     "name": "#%% md\n"
    }
   },
   "source": [
    "#### Попробуем применить ансамбль из BaggingClassifier и LGBMClassifier"
   ]
  },
  {
   "cell_type": "code",
   "execution_count": 16,
   "id": "bulgarian-watson",
   "metadata": {
    "pycharm": {
     "name": "#%%\n"
    }
   },
   "outputs": [
    {
     "name": "stdout",
     "output_type": "stream",
     "text": [
      "0.9731493863284302\n"
     ]
    },
    {
     "data": {
      "image/png": "[encoded data removed]",
      "text/plain": [
       "<Figure size 432x288 with 1 Axes>"
      ]
     },
     "metadata": {
      "needs_background": "light"
     },
     "output_type": "display_data"
    }
   ],
   "source": [
    "clf_bagging = BaggingClassifier(base_estimator=LGBMClassifier(is_unbalance=True, objective='binary',\n",
    "                                                          boosting_type='dart', lambda_l1=1, lambda_l2=1,\n",
    "                                                          learning_rate=0.1, min_data_in_leaf=100, num_leaves=127,\n",
    "                                                          reg_alpha=0.1), n_jobs=-1)\n",
    "clf_bagging.fit(X_train, y_train)\n",
    "y_predict_train = clf_bagging.predict_proba(X_train)[:,1]\n",
    "y_predict_test = clf_bagging.predict_proba(X_test)[:,1]\n",
    "\n",
    "\n",
    "from sklearn.metrics import confusion_matrix\n",
    "\n",
    "print(roc_auc_score(y_test, y_predict_test))\n",
    "\n",
    "#print(classification_report(y_test, predictions))\n",
    "#print(accuracy_score(y_test, predictions ))\n",
    "fpr, tpr, thresholds = roc_curve(y_test, y_predict_test)\n",
    "plt.figure()\n",
    "plt.plot(fpr, tpr, label='XGBClassifier (area = %0.2f)' % roc_auc_score(y_test, y_predict_test))\n",
    "plt.plot([0, 1], [0, 1], 'r--')\n",
    "plt.xlim([0.0, 1.0])\n",
    "plt.ylim([0.0, 1.05])\n",
    "plt.xlabel('False Positive Rate')\n",
    "plt.ylabel('True Positive Rate')\n",
    "plt.title('Receiver operating characteristic')\n",
    "plt.legend(loc=\"lower right\")\n",
    "plt.show()"
   ]
  },
  {
   "cell_type": "markdown",
   "id": "important-saudi",
   "metadata": {
    "pycharm": {
     "name": "#%% md\n"
    }
   },
   "source": [
    "### Попробуем использовать ensemble из BaggingClassifier,XGBClassifier,LGBMClassifier"
   ]
  },
  {
   "cell_type": "code",
   "execution_count": 20,
   "id": "faced-benchmark",
   "metadata": {
    "pycharm": {
     "name": "#%%\n"
    }
   },
   "outputs": [
    {
     "name": "stdout",
     "output_type": "stream",
     "text": [
      "0.9754796171007163\n"
     ]
    },
    {
     "name": "stderr",
     "output_type": "stream",
     "text": [
      "/Users/s.zinchenko/.local/share/virtualenvs/notebooks-1OY_9XZP/lib/python3.8/site-packages/sklearn/metrics/_ranking.py:999: UndefinedMetricWarning: No positive samples in y_true, true positive value should be meaningless\n",
      "  warnings.warn(\n"
     ]
    },
    {
     "data": {
      "image/png": "[encoded data removed]",
      "text/plain": [
       "<Figure size 432x288 with 1 Axes>"
      ]
     },
     "metadata": {
      "needs_background": "light"
     },
     "output_type": "display_data"
    }
   ],
   "source": [
    "from lightgbm import LGBMClassifier\n",
    "from sklearn.ensemble import VotingRegressor, VotingClassifier\n",
    "name_model_1 = 'BaggingClassifier'\n",
    "name_model_2 = 'XGBClassifier'\n",
    "name_model_3 = 'LGBMClassifier'\n",
    "\n",
    "\n",
    "clf1 =BaggingClassifier(base_estimator=LGBMClassifier(is_unbalance=True, objective='binary',\n",
    "                                                      boosting_type='dart', lambda_l1=1, lambda_l2=1,\n",
    "                                                      learning_rate=0.1, min_data_in_leaf=100, num_leaves=27,\n",
    "                                                      reg_alpha=0.1), n_jobs=-1)\n",
    "\n",
    "\n",
    "\n",
    "clf2 =  XGBClassifier(booster = 'gbtree', learning_rate=0.4, n_estimators=100, max_depth=3, min_child_weight=0, eval_metric='auc', gamma = 0.1, reg_alpha = 0)\n",
    "\n",
    "clf3 = LGBMClassifier(is_unbalance=True, objective='binary',\n",
    "                      boosting_type='dart', lambda_l1=1, lambda_l2=1,\n",
    "                      learning_rate=0.1, min_data_in_leaf=100, num_leaves=27,\n",
    "                      reg_alpha=0.1)\n",
    "\n",
    "\n",
    "ensemble=VotingClassifier(estimators=[(name_model_1, clf1),\n",
    "                                      (name_model_3, clf3),\n",
    "                                      (name_model_2, clf2)],\n",
    "\n",
    "                          n_jobs=-1, voting='soft',\n",
    "                          verbose=True).fit(X_train, y_train)\n",
    "\n",
    "\n",
    "y_predict_train = ensemble.predict_proba(X_train)[:,1]\n",
    "y_predict_test = ensemble.predict_proba(X_test)[:,1]\n",
    "\n",
    "\n",
    "from sklearn.metrics import confusion_matrix\n",
    "\n",
    "fpr, tpr, thresholds = met.roc_curve(y_test, y_predict_test, pos_label=2)\n",
    "\n",
    "print(roc_auc_score(y_test, y_predict_test))\n",
    "#print(classification_report(y_test, predictions))\n",
    "#print(accuracy_score(y_test, predictions ))\n",
    "fpr, tpr, thresholds = roc_curve(y_test, y_predict_test)\n",
    "plt.figure()\n",
    "plt.plot(fpr, tpr, label='XGBClassifier (area = %0.2f)' % roc_auc_score(y_test, y_predict_test))\n",
    "plt.plot([0, 1], [0, 1], 'r--')\n",
    "plt.xlim([0.0, 1.0])\n",
    "plt.ylim([0.0, 1.05])\n",
    "plt.xlabel('False Positive Rate')\n",
    "plt.ylabel('True Positive Rate')\n",
    "plt.title('Receiver operating characteristic')\n",
    "plt.legend(loc=\"lower right\")\n",
    "plt.show()"
   ]
  },
  {
   "cell_type": "markdown",
   "id": "sacred-parliament",
   "metadata": {
    "pycharm": {
     "name": "#%% md\n"
    }
   },
   "source": [
    "## Лучше всего показала модель с использованием ансамбля из BaggingClassifier и XGBClassifier\n"
   ]
  },
  {
   "cell_type": "markdown",
   "id": "loose-ground",
   "metadata": {
    "pycharm": {
     "name": "#%% md\n"
    }
   },
   "source": [
    "### Как можно улучшить\n",
    "1. посмотреть, как ниже указано, основные фичи которые использует модель\n",
    "2. для дальнейшего усовершенствования полезно было бы уменьшить размерность данных с помощью UMAP, PCA, SVD и изобразить распределения в 2-х или трехмерном пространстве"
   ]
  },
  {
   "cell_type": "code",
   "execution_count": 618,
   "id": "breathing-bobby",
   "metadata": {
    "pycharm": {
     "name": "#%%\n"
    }
   },
   "outputs": [
    {
     "data": {
      "image/png": "[encoded data removed]",
      "text/plain": [
       "<Figure size 1440x720 with 1 Axes>"
      ]
     },
     "metadata": {
      "needs_background": "light"
     },
     "output_type": "display_data"
    }
   ],
   "source": [
    "x_plot = list(range(len(clf_lbgmc.feature_importances_)))\n",
    "importances = list(clf_lbgmc.feature_importances_)\n",
    "\n",
    "plt.figure(figsize=(20,10))\n",
    "plt.grid(True)\n",
    "plt.scatter(x_plot,importances)\n",
    "plt.show()"
   ]
  },
  {
   "cell_type": "code",
   "execution_count": 619,
   "id": "legal-librarian",
   "metadata": {
    "pycharm": {
     "name": "#%%\n"
    }
   },
   "outputs": [
    {
     "data": {
      "image/png": "[encoded data removed]",
      "text/plain": [
       "<Figure size 1296x432 with 1 Axes>"
      ]
     },
     "metadata": {
      "needs_background": "light"
     },
     "output_type": "display_data"
    }
   ],
   "source": [
    "import matplotlib.pyplot as plt\n",
    "import seaborn as sns\n",
    "\n",
    "def barplot(data, title):\n",
    "    fig = plt.figure(figsize=(18,6))\n",
    "    bar_plot = sns.barplot(x=data['feature'], y=data['value'])\n",
    "    for item in bar_plot.get_xticklabels():\n",
    "        item.set_rotation(90)\n",
    "    plt.title(title)\n",
    "    plt.show()\n",
    "\n",
    "importances = list(clf_lbgmc.feature_importances_)\n",
    "\n",
    "\n",
    "feat_imp = dict((value, name) for value, name in zip(X_train.columns, importances))\n",
    "first_elem = 30\n",
    "\n",
    "df_features = pd.DataFrame({'feature':list(feat_imp.keys())[:first_elem], 'value':list(feat_imp.values())[:first_elem] }).reset_index()\n",
    "\n",
    "model_name = 'XGBRegressor'\n",
    "title = f'Most important {first_elem} features from {model_name}'\n",
    "df_features = df_features.sort_values(by=['value'], ascending=False)\n",
    "barplot(df_features, title=title)"
   ]
  },
  {
   "cell_type": "markdown",
   "id": "e7c1d04f-5f54-47fc-ad4d-249756838ac8",
   "metadata": {
    "pycharm": {
     "name": "#%% md\n"
    }
   },
   "source": []
  },
  {
   "cell_type": "code",
   "execution_count": 620,
   "id": "7c75196c-556a-4160-904c-fbe5b6b4e761",
   "metadata": {},
   "outputs": [
    {
     "data": {
      "text/plain": [
       "array([[4.10256410e-01, 1.20000000e+01, 1.70426065e-02, ...,\n",
       "        5.57097605e-01, 1.34950000e+03, 3.79072682e-01],\n",
       "       [2.05128205e-01, 4.00000000e+00, 0.00000000e+00, ...,\n",
       "        8.29414838e-01, 1.87650000e+03, 4.10135841e-02],\n",
       "       [6.45161290e-01, 8.00000000e+00, 0.00000000e+00, ...,\n",
       "        7.99407115e-01, 9.59000000e+02, 0.00000000e+00],\n",
       "       ...,\n",
       "       [2.22222222e-01, 4.00000000e+00, 1.74603175e-01, ...,\n",
       "        0.00000000e+00, 3.14700000e+03, 1.98051948e-01],\n",
       "       [3.07692308e-01, 8.00000000e+00, 9.80861244e-02, ...,\n",
       "        4.28571429e-01, 2.20750000e+03, 1.73444976e-01],\n",
       "       [4.10256410e-01, 8.00000000e+00, 1.28205128e-02, ...,\n",
       "        9.16083916e-01, 1.40800000e+03, 1.72804146e-01]])"
      ]
     },
     "execution_count": 620,
     "metadata": {},
     "output_type": "execute_result"
    }
   ],
   "source": [
    "df_test_new.values"
   ]
  },
  {
   "cell_type": "code",
   "execution_count": 47,
   "id": "dd01753f-8516-41c9-8458-1d0483e03726",
   "metadata": {},
   "outputs": [],
   "source": [
    "y_submition = clf_bagging.predict_proba(df_test_new)[:,1]"
   ]
  },
  {
   "cell_type": "code",
   "execution_count": 48,
   "id": "4f82182c-631a-4ca7-a9e5-d5b1abd34b91",
   "metadata": {},
   "outputs": [],
   "source": [
    "df_submit_2 = pd.DataFrame()\n",
    "\n",
    "df_submit_2[\"Id\"] = df_test_new.index\n",
    "df_submit_2[\"Predicted\"] = y_submition"
   ]
  },
  {
   "cell_type": "code",
   "execution_count": 49,
   "id": "edcba074-3b6c-42b3-9275-01bb5b4aac44",
   "metadata": {},
   "outputs": [
    {
     "data": {
      "text/html": [
       "<div>\n",
       "<style scoped>\n",
       "    .dataframe tbody tr th:only-of-type {\n",
       "        vertical-align: middle;\n",
       "    }\n",
       "\n",
       "    .dataframe tbody tr th {\n",
       "        vertical-align: top;\n",
       "    }\n",
       "\n",
       "    .dataframe thead th {\n",
       "        text-align: right;\n",
       "    }\n",
       "</style>\n",
       "<table border=\"1\" class=\"dataframe\">\n",
       "  <thead>\n",
       "    <tr style=\"text-align: right;\">\n",
       "      <th></th>\n",
       "      <th>Id</th>\n",
       "      <th>Predicted</th>\n",
       "    </tr>\n",
       "  </thead>\n",
       "  <tbody>\n",
       "    <tr>\n",
       "      <th>0</th>\n",
       "      <td>-9193687728771344321</td>\n",
       "      <td>0.000003</td>\n",
       "    </tr>\n",
       "    <tr>\n",
       "      <th>1</th>\n",
       "      <td>-9190465597412250947</td>\n",
       "      <td>0.000002</td>\n",
       "    </tr>\n",
       "    <tr>\n",
       "      <th>2</th>\n",
       "      <td>-9188720494569941813</td>\n",
       "      <td>0.000558</td>\n",
       "    </tr>\n",
       "    <tr>\n",
       "      <th>3</th>\n",
       "      <td>-9181694933618130417</td>\n",
       "      <td>0.000006</td>\n",
       "    </tr>\n",
       "    <tr>\n",
       "      <th>4</th>\n",
       "      <td>-9181374021833011628</td>\n",
       "      <td>0.000004</td>\n",
       "    </tr>\n",
       "    <tr>\n",
       "      <th>...</th>\n",
       "      <td>...</td>\n",
       "      <td>...</td>\n",
       "    </tr>\n",
       "    <tr>\n",
       "      <th>3302</th>\n",
       "      <td>9203822720702563491</td>\n",
       "      <td>0.430223</td>\n",
       "    </tr>\n",
       "    <tr>\n",
       "      <th>3303</th>\n",
       "      <td>9205406046009482646</td>\n",
       "      <td>0.000142</td>\n",
       "    </tr>\n",
       "    <tr>\n",
       "      <th>3304</th>\n",
       "      <td>9206342053685832016</td>\n",
       "      <td>0.004058</td>\n",
       "    </tr>\n",
       "    <tr>\n",
       "      <th>3305</th>\n",
       "      <td>9213027496842209017</td>\n",
       "      <td>0.000090</td>\n",
       "    </tr>\n",
       "    <tr>\n",
       "      <th>3306</th>\n",
       "      <td>9221450110538849279</td>\n",
       "      <td>0.088645</td>\n",
       "    </tr>\n",
       "  </tbody>\n",
       "</table>\n",
       "<p>3307 rows × 2 columns</p>\n",
       "</div>"
      ],
      "text/plain": [
       "                       Id  Predicted\n",
       "0    -9193687728771344321   0.000003\n",
       "1    -9190465597412250947   0.000002\n",
       "2    -9188720494569941813   0.000558\n",
       "3    -9181694933618130417   0.000006\n",
       "4    -9181374021833011628   0.000004\n",
       "...                   ...        ...\n",
       "3302  9203822720702563491   0.430223\n",
       "3303  9205406046009482646   0.000142\n",
       "3304  9206342053685832016   0.004058\n",
       "3305  9213027496842209017   0.000090\n",
       "3306  9221450110538849279   0.088645\n",
       "\n",
       "[3307 rows x 2 columns]"
      ]
     },
     "execution_count": 49,
     "metadata": {},
     "output_type": "execute_result"
    }
   ],
   "source": [
    "df_submit_2"
   ]
  },
  {
   "cell_type": "code",
   "execution_count": 50,
   "id": "16af37b4-4ffb-4b84-9a2d-326a97a01eae",
   "metadata": {
    "pycharm": {
     "name": "#%%\n"
    }
   },
   "outputs": [],
   "source": [
    "df_submit_2.to_csv(\"submit_new.csv\", index=False)"
   ]
  },
  {
   "cell_type": "code",
   "execution_count": null,
   "id": "injured-boston",
   "metadata": {},
   "outputs": [],
   "source": []
  }
 ],
 "metadata": {
  "kernelspec": {
   "display_name": "Python 3",
   "language": "python",
   "name": "python3"
  },
  "language_info": {
   "codemirror_mode": {
    "name": "ipython",
    "version": 3
   },
   "file_extension": ".py",
   "mimetype": "text/x-python",
   "name": "python",
   "nbconvert_exporter": "python",
   "pygments_lexer": "ipython3",
   "version": "3.8.2"
  }
 },
 "nbformat": 4,
 "nbformat_minor": 5
}
